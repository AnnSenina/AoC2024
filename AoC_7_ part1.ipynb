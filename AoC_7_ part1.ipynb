{
  "nbformat": 4,
  "nbformat_minor": 0,
  "metadata": {
    "colab": {
      "provenance": [],
      "authorship_tag": "ABX9TyPwitLDKhPFlcSYUNlaG0TB",
      "include_colab_link": true
    },
    "kernelspec": {
      "name": "python3",
      "display_name": "Python 3"
    },
    "language_info": {
      "name": "python"
    }
  },
  "cells": [
    {
      "cell_type": "markdown",
      "metadata": {
        "id": "view-in-github",
        "colab_type": "text"
      },
      "source": [
        "<a href=\"https://colab.research.google.com/github/AnnSenina/AoC2024/blob/main/AoC_7_%20part1.ipynb\" target=\"_parent\"><img src=\"https://colab.research.google.com/assets/colab-badge.svg\" alt=\"Open In Colab\"/></a>"
      ]
    },
    {
      "cell_type": "markdown",
      "source": [
        "# День 7"
      ],
      "metadata": {
        "id": "JSLjYxhkLU7T"
      }
    },
    {
      "cell_type": "code",
      "source": [
        "test = '''190: 10 19\n",
        "3267: 81 40 27\n",
        "83: 17 5\n",
        "156: 15 6\n",
        "7290: 6 8 6 15\n",
        "161011: 16 10 13\n",
        "192: 17 8 14\n",
        "21037: 9 7 18 13\n",
        "292: 11 6 16 20'''.split('\\n')\n",
        "\n",
        "d = {}\n",
        "\n",
        "for i in test:\n",
        "  key, value = i.split(': ')\n",
        "  d[int(key)] = list(map(int, value.split()))\n",
        "d"
      ],
      "metadata": {
        "colab": {
          "base_uri": "https://localhost:8080/"
        },
        "id": "eIVC_YNWLaQN",
        "outputId": "36833b01-84f4-41e3-94ec-019cf16bc8fc"
      },
      "execution_count": 54,
      "outputs": [
        {
          "output_type": "execute_result",
          "data": {
            "text/plain": [
              "{190: [10, 19],\n",
              " 3267: [81, 40, 27],\n",
              " 83: [17, 5],\n",
              " 156: [15, 6],\n",
              " 7290: [6, 8, 6, 15],\n",
              " 161011: [16, 10, 13],\n",
              " 192: [17, 8, 14],\n",
              " 21037: [9, 7, 18, 13],\n",
              " 292: [11, 6, 16, 20]}"
            ]
          },
          "metadata": {},
          "execution_count": 54
        }
      ]
    },
    {
      "cell_type": "code",
      "source": [
        "answer = 0\n",
        "\n",
        "for k, v in d.items():\n",
        "\n",
        "  cash = {}\n",
        "\n",
        "  pos = 0\n",
        "  cash[pos] = [v[1] + v[0], v[1] * v[0]]\n",
        "  for i in range(2, len(v)):\n",
        "    somelist = []\n",
        "    for val in cash[pos]:\n",
        "      somelist.append(val + v[i])\n",
        "      somelist.append(val * v[i])\n",
        "    pos += 1\n",
        "    cash[pos] = somelist\n",
        "  if k in cash[len(v)-2]:\n",
        "    answer += k\n",
        "    print(k, v, answer)\n",
        "answer"
      ],
      "metadata": {
        "colab": {
          "base_uri": "https://localhost:8080/"
        },
        "id": "ZamWwycDl5RC",
        "outputId": "71514dbe-47df-429e-dfad-d7c7f01cff58"
      },
      "execution_count": 55,
      "outputs": [
        {
          "output_type": "stream",
          "name": "stdout",
          "text": [
            "190 [10, 19] 190\n",
            "3267 [81, 40, 27] 3457\n",
            "292 [11, 6, 16, 20] 3749\n"
          ]
        },
        {
          "output_type": "execute_result",
          "data": {
            "text/plain": [
              "3749"
            ]
          },
          "metadata": {},
          "execution_count": 55
        }
      ]
    },
    {
      "cell_type": "code",
      "source": [
        "import itertools\n",
        "\n",
        "def find_comb(l):\n",
        "  comb = []\n",
        "  for i in range(len(l) - 1):\n",
        "    comb.append('+')\n",
        "    comb.append('*')\n",
        "  return set(list(itertools.permutations(comb, len(l))))\n",
        "\n",
        "find_comb([10, 19])"
      ],
      "metadata": {
        "colab": {
          "base_uri": "https://localhost:8080/"
        },
        "id": "0nkKpxR6NDJc",
        "outputId": "57134807-84b0-4106-cf50-c0c9ef3e999f"
      },
      "execution_count": 2,
      "outputs": [
        {
          "output_type": "execute_result",
          "data": {
            "text/plain": [
              "{('*', '+'), ('+', '*')}"
            ]
          },
          "metadata": {},
          "execution_count": 2
        }
      ]
    },
    {
      "cell_type": "code",
      "source": [
        "def find_pr(l, c):\n",
        "  for a in c:\n",
        "    comb = l + list(a)\n",
        "    step1 = set(list(itertools.permutations(comb, len(comb) - 1)))\n",
        "    step2 = []\n",
        "    for i in step1:\n",
        "      mist = 0\n",
        "      ind = 0\n",
        "      for n in range(len(i)):\n",
        "        if n % 2 == 0:\n",
        "          if type(i[n]) == str:\n",
        "            mist += 1\n",
        "        else:\n",
        "          if type(i[n]) == int:\n",
        "              mist += 1\n",
        "      for k in list(range(0, len(i), 2)):\n",
        "        if i[k] != l[ind]:\n",
        "          mist += 1\n",
        "          break\n",
        "        ind += 1\n",
        "      if mist == 0:\n",
        "        step2.append(i)\n",
        "    return step2\n",
        "\n",
        "res = find_pr([2, 892, 65, 427, 3, 389], find_comb([2, 892, 65, 427, 3, 389]))\n",
        "res"
      ],
      "metadata": {
        "id": "m6mDAN5FW8To"
      },
      "execution_count": null,
      "outputs": []
    },
    {
      "cell_type": "code",
      "source": [
        "l = [11, 6, 16, 20]\n",
        "\n",
        "for sym in res:\n",
        "  sum_s = sym[0]\n",
        "  for n in range(1, len(sym)):\n",
        "    if n % 2 == 0:\n",
        "      if sym[n-1] == '+':\n",
        "        sum_s += sym[n]\n",
        "      else:\n",
        "        sum_s *= sym[n]\n",
        "  if sum_s == 292:\n",
        "    print('it works!, but', sym)\n",
        "    ind = 0 # поправить\n",
        "    for i in list(range(0, len(sym), 2)):\n",
        "      if sym[i] != l[ind]:\n",
        "        print('увы')\n",
        "        break\n",
        "      ind += 1\n"
      ],
      "metadata": {
        "id": "A0lL2qx2bao3"
      },
      "execution_count": null,
      "outputs": []
    },
    {
      "cell_type": "code",
      "source": [
        "answer = []\n",
        "\n",
        "for k, v in d.items():\n",
        "  step = find_comb(v)\n",
        "  step2 = find_pr(v, step)\n",
        "  for sym in step2:\n",
        "    sum_s = sym[0]\n",
        "    for n in range(1, len(sym)):\n",
        "      if n % 2 == 0:\n",
        "        if sym[n-1] == '+':\n",
        "          sum_s += sym[n]\n",
        "        else:\n",
        "          sum_s *= sym[n]\n",
        "    if sum_s == k:\n",
        "        answer.append(k)\n",
        "sum(set(answer))"
      ],
      "metadata": {
        "colab": {
          "base_uri": "https://localhost:8080/"
        },
        "id": "aWYnE_7nchFu",
        "outputId": "9008e691-e31b-4866-b55b-5a4025dc67fc"
      },
      "execution_count": null,
      "outputs": [
        {
          "output_type": "execute_result",
          "data": {
            "text/plain": [
              "3749"
            ]
          },
          "metadata": {},
          "execution_count": 5
        }
      ]
    },
    {
      "cell_type": "markdown",
      "source": [
        "## Задача 1"
      ],
      "metadata": {
        "id": "8UzRPMKgLYAd"
      }
    },
    {
      "cell_type": "code",
      "source": [
        "with open('input7.txt') as f:\n",
        "  text = f.read()\n",
        "text = text.strip()"
      ],
      "metadata": {
        "id": "CTfK2GkGiTIY"
      },
      "execution_count": 110,
      "outputs": []
    },
    {
      "cell_type": "code",
      "source": [
        "d = {}\n",
        "d2 = {}\n",
        "\n",
        "for i in text.split('\\n'):\n",
        "  key, value = i.split(': ')\n",
        "  if int(key) not in d:\n",
        "    d[int(key)] = list(map(int, value.split()))\n",
        "  else:\n",
        "    d2[int(key)] = list(map(int, value.split()))\n",
        "d2"
      ],
      "metadata": {
        "colab": {
          "base_uri": "https://localhost:8080/"
        },
        "id": "UfCifsCWihPN",
        "outputId": "d59f056b-cd65-4e8c-c9e4-fccfa54375f7"
      },
      "execution_count": 113,
      "outputs": [
        {
          "output_type": "execute_result",
          "data": {
            "text/plain": [
              "{45711: [1, 1, 98, 4, 57, 11], 1028: [31, 47, 828, 33, 89]}"
            ]
          },
          "metadata": {},
          "execution_count": 113
        }
      ]
    },
    {
      "cell_type": "code",
      "source": [
        "answer = 0\n",
        "\n",
        "for k, v in d.items():\n",
        "\n",
        "  cash = {}\n",
        "\n",
        "  pos = 0\n",
        "  cash[pos] = [v[1] + v[0], v[1] * v[0]]\n",
        "  for i in v[2:]:\n",
        "    somelist = []\n",
        "    for val in cash[pos]:\n",
        "      somelist.append(val + i)\n",
        "      somelist.append(val * i)\n",
        "    pos += 1\n",
        "    cash[pos] = somelist\n",
        "  if k in cash[len(v)-2]:\n",
        "    answer += k\n",
        "\n",
        "answer"
      ],
      "metadata": {
        "colab": {
          "base_uri": "https://localhost:8080/"
        },
        "id": "fVOfPf0KixMq",
        "outputId": "5e87d4fe-9dce-4ac5-b666-5c5afe3a9ab3"
      },
      "execution_count": 114,
      "outputs": [
        {
          "output_type": "execute_result",
          "data": {
            "text/plain": [
              "2664460012095"
            ]
          },
          "metadata": {},
          "execution_count": 114
        }
      ]
    },
    {
      "cell_type": "code",
      "source": [
        "answer2 = 0\n",
        "\n",
        "for k, v in d2.items():\n",
        "\n",
        "  cash = {}\n",
        "\n",
        "  pos = 0\n",
        "  cash[pos] = [v[1] + v[0], v[1] * v[0]]\n",
        "  for i in v[2:]:\n",
        "    somelist = []\n",
        "    for val in cash[pos]:\n",
        "      somelist.append(val + i)\n",
        "      somelist.append(val * i)\n",
        "    pos += 1\n",
        "    cash[pos] = somelist\n",
        "  if k in cash[len(v)-2]:\n",
        "    answer2 += k\n",
        "\n",
        "answer2"
      ],
      "metadata": {
        "colab": {
          "base_uri": "https://localhost:8080/"
        },
        "id": "NkjIB-cytR5k",
        "outputId": "53165451-9055-466a-b575-bd5d908a7e12"
      },
      "execution_count": 115,
      "outputs": [
        {
          "output_type": "execute_result",
          "data": {
            "text/plain": [
              "1028"
            ]
          },
          "metadata": {},
          "execution_count": 115
        }
      ]
    },
    {
      "cell_type": "code",
      "source": [
        "answer + answer2"
      ],
      "metadata": {
        "colab": {
          "base_uri": "https://localhost:8080/"
        },
        "id": "Ii1stb_ut5Vk",
        "outputId": "d8ea59da-4f48-49a8-8e31-84af69fb20d2"
      },
      "execution_count": 116,
      "outputs": [
        {
          "output_type": "execute_result",
          "data": {
            "text/plain": [
              "2664460013123"
            ]
          },
          "metadata": {},
          "execution_count": 116
        }
      ]
    },
    {
      "cell_type": "markdown",
      "source": [
        "### Неудачные попытки"
      ],
      "metadata": {
        "id": "Dp-yBMbwkIk1"
      }
    },
    {
      "cell_type": "code",
      "source": [
        "import time\n",
        "\n",
        "answer = []\n",
        "\n",
        "for k, v in d.items():\n",
        "  step = find_comb(v)\n",
        "  step2 = find_pr(v, step)\n",
        "  for sym in step2:\n",
        "    sum_s = sym[0]\n",
        "    for n in range(1, len(sym)):\n",
        "      if n % 2 == 0:\n",
        "        if sym[n-1] == '+':\n",
        "          sum_s += sym[n]\n",
        "        else:\n",
        "          sum_s *= sym[n]\n",
        "    if sum_s == k:\n",
        "        answer.append(k)\n",
        "    print(sum_s)\n",
        "sum(set(answer))"
      ],
      "metadata": {
        "id": "1leXnHs8LUvC"
      },
      "execution_count": null,
      "outputs": []
    }
  ]
}