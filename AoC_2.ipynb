{
  "nbformat": 4,
  "nbformat_minor": 0,
  "metadata": {
    "colab": {
      "provenance": [],
      "authorship_tag": "ABX9TyMwCB38uPWOwWTatOEm+M8K",
      "include_colab_link": true
    },
    "kernelspec": {
      "name": "python3",
      "display_name": "Python 3"
    },
    "language_info": {
      "name": "python"
    }
  },
  "cells": [
    {
      "cell_type": "markdown",
      "metadata": {
        "id": "view-in-github",
        "colab_type": "text"
      },
      "source": [
        "<a href=\"https://colab.research.google.com/github/AnnSenina/AoC2024/blob/main/AoC_2.ipynb\" target=\"_parent\"><img src=\"https://colab.research.google.com/assets/colab-badge.svg\" alt=\"Open In Colab\"/></a>"
      ]
    },
    {
      "cell_type": "markdown",
      "source": [
        "# День 2.\n",
        "\n",
        "## Задача 1"
      ],
      "metadata": {
        "id": "L0kloXOm13CR"
      }
    },
    {
      "cell_type": "code",
      "source": [
        "with open('input2.txt') as f:\n",
        "    text = f.read()\n",
        "text.split('\\n')[:10]"
      ],
      "metadata": {
        "colab": {
          "base_uri": "https://localhost:8080/"
        },
        "id": "Mr5QS0Un3mik",
        "outputId": "825a8c56-4828-40fd-e823-ccb77dc37c55"
      },
      "execution_count": 2,
      "outputs": [
        {
          "output_type": "execute_result",
          "data": {
            "text/plain": [
              "['58 59 62 63 64 63',\n",
              " '71 72 74 76 78 80 82 82',\n",
              " '26 29 32 34 35 39',\n",
              " '9 11 14 17 19 20 21 26',\n",
              " '89 92 95 93 94 97 98',\n",
              " '35 37 40 41 43 42 39',\n",
              " '89 91 94 96 97 99 98 98',\n",
              " '85 86 83 84 85 86 90',\n",
              " '46 48 50 52 49 52 59',\n",
              " '56 58 58 60 62']"
            ]
          },
          "metadata": {},
          "execution_count": 2
        }
      ]
    },
    {
      "cell_type": "code",
      "source": [
        "l = []\n",
        "for i in text.split('\\n'):\n",
        "    l.append(list(map(int, i.split())))\n",
        "l[-1]"
      ],
      "metadata": {
        "colab": {
          "base_uri": "https://localhost:8080/"
        },
        "id": "Na7xwrAi3mfP",
        "outputId": "6024bda0-c984-49ed-cd1b-51131b403587"
      },
      "execution_count": 4,
      "outputs": [
        {
          "output_type": "execute_result",
          "data": {
            "text/plain": [
              "[]"
            ]
          },
          "metadata": {},
          "execution_count": 4
        }
      ]
    },
    {
      "cell_type": "code",
      "source": [
        "count = 0\n",
        "list_count = []\n",
        "for i in l[:-1]:\n",
        "    tr = True\n",
        "    if i == sorted(i) or i == sorted(i, reverse=True):\n",
        "        checked = i[0]\n",
        "        for n in i[1:]:\n",
        "            if 1 <= abs(n - checked) <= 3:\n",
        "                pass\n",
        "            else:\n",
        "                tr = False\n",
        "            checked = n\n",
        "        if tr == True:\n",
        "            count += 1\n",
        "            list_count.append(1)\n",
        "        else:\n",
        "            list_count.append(0)\n",
        "    else:\n",
        "        list_count.append(0)\n",
        "count\n",
        ""
      ],
      "metadata": {
        "colab": {
          "base_uri": "https://localhost:8080/"
        },
        "id": "D38b4Lrq3mcJ",
        "outputId": "90ba4a25-ddd3-4e93-c486-6c865a8fdc69"
      },
      "execution_count": 5,
      "outputs": [
        {
          "output_type": "execute_result",
          "data": {
            "text/plain": [
              "402"
            ]
          },
          "metadata": {},
          "execution_count": 5
        }
      ]
    },
    {
      "cell_type": "markdown",
      "source": [
        "## Задача 2"
      ],
      "metadata": {
        "id": "YpY8I1iR23IG"
      }
    },
    {
      "cell_type": "code",
      "source": [
        "import copy\n",
        "\n",
        "def mist(l):\n",
        "    ch = l[0]\n",
        "    res = []\n",
        "    if l[0] > l[-1]:\n",
        "        #убывает\n",
        "        for i in l[1:]:\n",
        "            if i < ch and 1 <= abs(i - ch) <= 3:\n",
        "                res.append(True)\n",
        "            else:\n",
        "                res.append(False)\n",
        "            ch = i\n",
        "    elif l[0] < l[-1]:\n",
        "        #возрастает\n",
        "        for i in l[1:]:\n",
        "            if i > ch  and 1 <= abs(i - ch) <= 3:\n",
        "                res.append(True)\n",
        "            else:\n",
        "                res.append(False)\n",
        "            ch = i\n",
        "    else:\n",
        "       for i in range(len(l)):\n",
        "           res.append(False)\n",
        "    return res\n",
        "\n",
        "def count_res(l):\n",
        "    res = 0\n",
        "    tr = mist(l)\n",
        "    lch = []\n",
        "    all_lch = []\n",
        "    if tr.count(False) == 0:\n",
        "        res = 1\n",
        "    elif tr.count(False) <= 2:\n",
        "        for i in range(len(tr)):\n",
        "            for ind in range(len(l)):\n",
        "                lch = copy.deepcopy(l)\n",
        "                del lch[ind]\n",
        "                tr2 = mist(lch)\n",
        "                all_lch.append(lch)\n",
        "                if tr2.count(False) == 0:\n",
        "                    res = 1\n",
        "                    break\n",
        "    return res, tr, l, all_lch\n",
        "\n",
        "ex = [53, 53, 55, 56, 59, 62, 63]\n",
        "print(mist(ex))\n",
        "print(count_res(ex))"
      ],
      "metadata": {
        "colab": {
          "base_uri": "https://localhost:8080/"
        },
        "id": "Eeqng7Go35Mh",
        "outputId": "703781b1-3386-4c61-d718-fdc67ec76d69"
      },
      "execution_count": 6,
      "outputs": [
        {
          "output_type": "stream",
          "name": "stdout",
          "text": [
            "[False, True, True, True, True, True]\n",
            "(1, [False, True, True, True, True, True], [53, 53, 55, 56, 59, 62, 63], [[53, 55, 56, 59, 62, 63], [53, 55, 56, 59, 62, 63], [53, 55, 56, 59, 62, 63], [53, 55, 56, 59, 62, 63], [53, 55, 56, 59, 62, 63], [53, 55, 56, 59, 62, 63]])\n"
          ]
        }
      ]
    },
    {
      "cell_type": "code",
      "source": [
        "count = 0\n",
        "list_count2 = []\n",
        "for i in l[:-1]:\n",
        "    result = count_res(i)\n",
        "    count += result[0]\n",
        "    list_count2.append(result[0])\n",
        "count"
      ],
      "metadata": {
        "colab": {
          "base_uri": "https://localhost:8080/"
        },
        "id": "YW3h4elj4AHq",
        "outputId": "8d59835c-7657-4987-ecc3-ab27952bef1f"
      },
      "execution_count": 7,
      "outputs": [
        {
          "output_type": "execute_result",
          "data": {
            "text/plain": [
              "455"
            ]
          },
          "metadata": {},
          "execution_count": 7
        }
      ]
    }
  ]
}