{
  "nbformat": 4,
  "nbformat_minor": 0,
  "metadata": {
    "colab": {
      "provenance": [],
      "authorship_tag": "ABX9TyOPcN53TD+sRRipWh4OgE8j",
      "include_colab_link": true
    },
    "kernelspec": {
      "name": "python3",
      "display_name": "Python 3"
    },
    "language_info": {
      "name": "python"
    }
  },
  "cells": [
    {
      "cell_type": "markdown",
      "metadata": {
        "id": "view-in-github",
        "colab_type": "text"
      },
      "source": [
        "<a href=\"https://colab.research.google.com/github/AnnSenina/AoC2024/blob/main/AoC_1.ipynb\" target=\"_parent\"><img src=\"https://colab.research.google.com/assets/colab-badge.svg\" alt=\"Open In Colab\"/></a>"
      ]
    },
    {
      "cell_type": "markdown",
      "source": [
        "# День 1.\n",
        "\n",
        "## Задача 1"
      ],
      "metadata": {
        "id": "L0kloXOm13CR"
      }
    },
    {
      "cell_type": "code",
      "execution_count": 10,
      "metadata": {
        "id": "Gu4Uu5i-12kG"
      },
      "outputs": [],
      "source": [
        "with open('input.txt') as f:\n",
        "    text = f.read()\n",
        "\n",
        "l1 = []\n",
        "l2 = []\n",
        "for i in text.split('\\n')[:-1]:\n",
        "    l1.append(i.split()[0])\n",
        "    l2.append(i.split()[1])"
      ]
    },
    {
      "cell_type": "code",
      "source": [
        "import numpy as np\n",
        "elf1 = np.array(sorted(list(map(int, l1))))\n",
        "elf2 = np.array(sorted(list(map(int, l2))))"
      ],
      "metadata": {
        "id": "9cWTaYlQ2ZPQ"
      },
      "execution_count": 11,
      "outputs": []
    },
    {
      "cell_type": "code",
      "source": [
        "dist = sum(abs(elf1 - elf2))\n",
        "dist"
      ],
      "metadata": {
        "colab": {
          "base_uri": "https://localhost:8080/"
        },
        "id": "H1YUrufw2ZBo",
        "outputId": "4f4be343-e899-44c1-df43-0137b3fdd9c2"
      },
      "execution_count": 12,
      "outputs": [
        {
          "output_type": "execute_result",
          "data": {
            "text/plain": [
              "2344935"
            ]
          },
          "metadata": {},
          "execution_count": 12
        }
      ]
    },
    {
      "cell_type": "markdown",
      "source": [
        "## Задача 2"
      ],
      "metadata": {
        "id": "YpY8I1iR23IG"
      }
    },
    {
      "cell_type": "code",
      "source": [
        "res2 = []\n",
        "\n",
        "for i in list(map(int, l1)):\n",
        "    n = list(map(int, l2)).count(i)\n",
        "    res2.append(i * n)\n",
        "\n",
        "sum(res2)"
      ],
      "metadata": {
        "colab": {
          "base_uri": "https://localhost:8080/"
        },
        "id": "TpZY5bmJ3BwG",
        "outputId": "5525ed5c-f6e6-47b0-86a4-b2e5ef5c7c5b"
      },
      "execution_count": 15,
      "outputs": [
        {
          "output_type": "execute_result",
          "data": {
            "text/plain": [
              "27647262"
            ]
          },
          "metadata": {},
          "execution_count": 15
        }
      ]
    }
  ]
}