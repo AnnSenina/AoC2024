{
  "nbformat": 4,
  "nbformat_minor": 0,
  "metadata": {
    "colab": {
      "provenance": [],
      "authorship_tag": "ABX9TyNWw4ONqFyQYOilWKXInAZc",
      "include_colab_link": true
    },
    "kernelspec": {
      "name": "python3",
      "display_name": "Python 3"
    },
    "language_info": {
      "name": "python"
    }
  },
  "cells": [
    {
      "cell_type": "markdown",
      "metadata": {
        "id": "view-in-github",
        "colab_type": "text"
      },
      "source": [
        "<a href=\"https://colab.research.google.com/github/AnnSenina/AoC2024/blob/main/AoC5.ipynb\" target=\"_parent\"><img src=\"https://colab.research.google.com/assets/colab-badge.svg\" alt=\"Open In Colab\"/></a>"
      ]
    },
    {
      "cell_type": "markdown",
      "source": [
        "# День 5"
      ],
      "metadata": {
        "id": "k-aY0l8iNBjO"
      }
    },
    {
      "cell_type": "code",
      "execution_count": 123,
      "metadata": {
        "id": "_Ub4mXUhQdbW"
      },
      "outputs": [],
      "source": [
        "test = '''47|53\n",
        "97|13\n",
        "97|61\n",
        "97|47\n",
        "75|29\n",
        "61|13\n",
        "75|53\n",
        "29|13\n",
        "97|29\n",
        "53|29\n",
        "61|53\n",
        "97|53\n",
        "61|29\n",
        "47|13\n",
        "75|47\n",
        "97|75\n",
        "47|61\n",
        "75|61\n",
        "47|29\n",
        "75|13\n",
        "53|13'''\n",
        "\n",
        "check = '''75,47,61,53,29\n",
        "97,61,53,29,13\n",
        "75,29,13\n",
        "75,97,47,61,53\n",
        "61,13,29\n",
        "97,13,75,29,47'''"
      ]
    },
    {
      "cell_type": "code",
      "source": [
        "d = {}\n",
        "for i in test.split('\\n'):\n",
        "  if i.split('|')[0] not in d:\n",
        "    d[i.split('|')[0]] = [i.split('|')[1]]\n",
        "  else:\n",
        "    d[i.split('|')[0]] += [i.split('|')[1]]\n",
        "d"
      ],
      "metadata": {
        "colab": {
          "base_uri": "https://localhost:8080/"
        },
        "id": "wxgNNRuKQl31",
        "outputId": "156e7507-7d98-459d-a23e-78792eab7551"
      },
      "execution_count": 124,
      "outputs": [
        {
          "output_type": "execute_result",
          "data": {
            "text/plain": [
              "{'47': ['53', '13', '61', '29'],\n",
              " '97': ['13', '61', '47', '29', '53', '75'],\n",
              " '75': ['29', '53', '47', '61', '13'],\n",
              " '61': ['13', '53', '29'],\n",
              " '29': ['13'],\n",
              " '53': ['29', '13']}"
            ]
          },
          "metadata": {},
          "execution_count": 124
        }
      ]
    },
    {
      "cell_type": "code",
      "source": [
        "count_mist = 0\n",
        "right = []\n",
        "for row in check.split('\\n'):\n",
        "  row = row.split(',')\n",
        "  for i in row: # 29|13\n",
        "    if i in d:\n",
        "      for n in d[i]:\n",
        "        if n in row[:row.index(i)]:\n",
        "          #print(row, n, 'ошибка')\n",
        "          count_mist += 1\n",
        "  if count_mist > 0:\n",
        "    pass\n",
        "  else:\n",
        "    right.append(row)\n",
        "\n",
        "res = 0\n",
        "for i in right:\n",
        "  res += int(i[int(len(i) / 2 - 0.5)])\n",
        "res\n"
      ],
      "metadata": {
        "colab": {
          "base_uri": "https://localhost:8080/"
        },
        "id": "Na0nemvHK4yj",
        "outputId": "db0e36da-6ef9-4c7d-9ac2-2277c6317ef9"
      },
      "execution_count": 41,
      "outputs": [
        {
          "output_type": "execute_result",
          "data": {
            "text/plain": [
              "143"
            ]
          },
          "metadata": {},
          "execution_count": 41
        }
      ]
    },
    {
      "cell_type": "markdown",
      "source": [
        "## Задача 1"
      ],
      "metadata": {
        "id": "E18l0WKfNGoN"
      }
    },
    {
      "cell_type": "code",
      "source": [
        "with open('input5.txt') as f:\n",
        "  text = f.read()\n",
        "\n",
        "test, check = text.split('\\n\\n')"
      ],
      "metadata": {
        "id": "2ZhbggMkNLa0"
      },
      "execution_count": 138,
      "outputs": []
    },
    {
      "cell_type": "code",
      "source": [
        "d = {}\n",
        "for i in test.split('\\n'):\n",
        "  if i.split('|')[0] not in d:\n",
        "    d[i.split('|')[0]] = [i.split('|')[1]]\n",
        "  else:\n",
        "    d[i.split('|')[0]] += [i.split('|')[1]]\n",
        "d"
      ],
      "metadata": {
        "id": "y0e8CsgkNmmR"
      },
      "execution_count": null,
      "outputs": []
    },
    {
      "cell_type": "code",
      "source": [
        "right = []\n",
        "wrong = []\n",
        "for row in check.split('\\n'):\n",
        "  count_mist = 0\n",
        "  row = row.split(',')\n",
        "  for i in row: # 29|13\n",
        "    if i in d:\n",
        "      for n in d[i]:\n",
        "        if n in row[:row.index(i)]:\n",
        "          #print(row, n, 'ошибка')\n",
        "          count_mist += 1\n",
        "  if count_mist > 0:\n",
        "    wrong.append(row)\n",
        "  else:\n",
        "    right.append(row)\n",
        "\n",
        "res = 0\n",
        "for i in right[:-1]:\n",
        "  res += int(i[int(len(i) / 2 - 0.5)])\n",
        "res"
      ],
      "metadata": {
        "colab": {
          "base_uri": "https://localhost:8080/"
        },
        "id": "A6OeipZHNqkt",
        "outputId": "ae2fe7f8-57f6-4073-86d2-857854e55e71"
      },
      "execution_count": 141,
      "outputs": [
        {
          "output_type": "execute_result",
          "data": {
            "text/plain": [
              "6505"
            ]
          },
          "metadata": {},
          "execution_count": 141
        }
      ]
    },
    {
      "cell_type": "markdown",
      "source": [
        "## Задача 2"
      ],
      "metadata": {
        "id": "avyADSFHOS-4"
      }
    },
    {
      "cell_type": "code",
      "source": [
        "test1 = '61,13,29'.split(',')\n",
        "test2 = test1.copy()\n",
        "for i in test1: # 29|13\n",
        "  if i in d:\n",
        "    for n in d[i]:\n",
        "      if n in test1[:test1.index(i)]:\n",
        "        print(n, 'ошибка')\n",
        "        test2.remove(n)\n",
        "        test2.insert(test2.index(i)+1, n)"
      ],
      "metadata": {
        "colab": {
          "base_uri": "https://localhost:8080/"
        },
        "id": "r0OxJQ45QY1I",
        "outputId": "dbc8b43f-094d-4377-abd3-edde37b8919d"
      },
      "execution_count": 88,
      "outputs": [
        {
          "output_type": "stream",
          "name": "stdout",
          "text": [
            "13 ошибка\n"
          ]
        }
      ]
    },
    {
      "cell_type": "code",
      "source": [
        "def clean(test1):\n",
        "  test2 = test1.copy()\n",
        "  for i in test1:\n",
        "    if i in d:\n",
        "      for n in d[i]:\n",
        "        if n in test1[:test1.index(i)]:\n",
        "          test2.remove(n)\n",
        "          test2.insert(test2.index(i)+1, n)\n",
        "  return test2"
      ],
      "metadata": {
        "id": "Rmw64ZpRQybd"
      },
      "execution_count": 136,
      "outputs": []
    },
    {
      "cell_type": "code",
      "source": [
        "def count_mist(row):\n",
        "  count_mist = 0\n",
        "  for i in row: # 29|13\n",
        "    if i in d:\n",
        "      for n in d[i]:\n",
        "        if n in row[:row.index(i)]:\n",
        "          count_mist += 1\n",
        "  return count_mist"
      ],
      "metadata": {
        "id": "0obNaDiyVGJz"
      },
      "execution_count": 143,
      "outputs": []
    },
    {
      "cell_type": "code",
      "source": [
        "res = []\n",
        "for row in wrong:\n",
        "  mist = count_mist(row)\n",
        "  be_clean = row[:]\n",
        "  while count_mist(be_clean) > 0:\n",
        "    be_clean = clean(be_clean)\n",
        "  res.append(be_clean)\n",
        "\n",
        "res"
      ],
      "metadata": {
        "id": "gPGaVrErObAF"
      },
      "execution_count": null,
      "outputs": []
    },
    {
      "cell_type": "code",
      "source": [
        "result = 0\n",
        "for i in res:\n",
        "  result += int(i[int(len(i) / 2 - 0.5)])\n",
        "result"
      ],
      "metadata": {
        "colab": {
          "base_uri": "https://localhost:8080/"
        },
        "id": "__6LUDi-SMn7",
        "outputId": "98bf81d0-3f07-4ab1-a7cc-3632f4f79ff2"
      },
      "execution_count": 146,
      "outputs": [
        {
          "output_type": "execute_result",
          "data": {
            "text/plain": [
              "6897"
            ]
          },
          "metadata": {},
          "execution_count": 146
        }
      ]
    }
  ]
}