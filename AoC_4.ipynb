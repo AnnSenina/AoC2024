{
  "nbformat": 4,
  "nbformat_minor": 0,
  "metadata": {
    "colab": {
      "provenance": [],
      "authorship_tag": "ABX9TyPUj++0wga8NenbO8J6lPlP",
      "include_colab_link": true
    },
    "kernelspec": {
      "name": "python3",
      "display_name": "Python 3"
    },
    "language_info": {
      "name": "python"
    }
  },
  "cells": [
    {
      "cell_type": "markdown",
      "metadata": {
        "id": "view-in-github",
        "colab_type": "text"
      },
      "source": [
        "<a href=\"https://colab.research.google.com/github/AnnSenina/AoC2024/blob/main/AoC_4.ipynb\" target=\"_parent\"><img src=\"https://colab.research.google.com/assets/colab-badge.svg\" alt=\"Open In Colab\"/></a>"
      ]
    },
    {
      "cell_type": "markdown",
      "source": [
        "# День 4\n",
        "\n",
        "## Задача 1"
      ],
      "metadata": {
        "id": "L0kloXOm13CR"
      }
    },
    {
      "cell_type": "code",
      "source": [
        "test = '''MMMSXXMASM\n",
        "MSAMXMSMSA\n",
        "AMXSXMAAMM\n",
        "MSAMASMSMX\n",
        "XMASAMXAMM\n",
        "XXAMMXXAMA\n",
        "SMSMSASXSS\n",
        "SAXAMASAAA\n",
        "MAMMMXMMMM\n",
        "MXMXAXMASX'''\n",
        "\n",
        "import numpy as np\n",
        "\n",
        "m = []\n",
        "for i in test.split('\\n'):\n",
        "  m.append(np.array(list(i)))\n",
        "m = np.matrix(m)\n",
        "m"
      ],
      "metadata": {
        "colab": {
          "base_uri": "https://localhost:8080/"
        },
        "id": "OTTTbeOVWrAT",
        "outputId": "bccd95b9-7ef9-40c2-b602-5bc1daa153b4"
      },
      "execution_count": 216,
      "outputs": [
        {
          "output_type": "execute_result",
          "data": {
            "text/plain": [
              "matrix([['M', 'M', 'M', 'S', 'X', 'X', 'M', 'A', 'S', 'M'],\n",
              "        ['M', 'S', 'A', 'M', 'X', 'M', 'S', 'M', 'S', 'A'],\n",
              "        ['A', 'M', 'X', 'S', 'X', 'M', 'A', 'A', 'M', 'M'],\n",
              "        ['M', 'S', 'A', 'M', 'A', 'S', 'M', 'S', 'M', 'X'],\n",
              "        ['X', 'M', 'A', 'S', 'A', 'M', 'X', 'A', 'M', 'M'],\n",
              "        ['X', 'X', 'A', 'M', 'M', 'X', 'X', 'A', 'M', 'A'],\n",
              "        ['S', 'M', 'S', 'M', 'S', 'A', 'S', 'X', 'S', 'S'],\n",
              "        ['S', 'A', 'X', 'A', 'M', 'A', 'S', 'A', 'A', 'A'],\n",
              "        ['M', 'A', 'M', 'M', 'M', 'X', 'M', 'M', 'M', 'M'],\n",
              "        ['M', 'X', 'M', 'X', 'A', 'X', 'M', 'A', 'S', 'X']], dtype='<U1')"
            ]
          },
          "metadata": {},
          "execution_count": 216
        }
      ]
    },
    {
      "cell_type": "code",
      "source": [
        "#m[row,5:9]\n",
        "#m[row,2:6]\n",
        "#m[2:6,col]\n",
        "#m[5:9,col]\n",
        "# m[5,5] + m[6,6] + m[7,7] + m[8,8] # +\n",
        "# m[5,5] + m[4,4] + m[3,3] + m[2,2] # -\n",
        "# m[5,5] + m[4,6] + m[3,7] + m[2,8] # -+\n",
        "# m[5,5] + m[6,4] + m[7,3] + m[8,2] # +-"
      ],
      "metadata": {
        "id": "zxvk2Gw8cQzH"
      },
      "execution_count": null,
      "outputs": []
    },
    {
      "cell_type": "code",
      "source": [
        "with open('input4.txt') as f:\n",
        "  text = f.read()"
      ],
      "metadata": {
        "id": "1JXL2vIzhsAI"
      },
      "execution_count": 58,
      "outputs": []
    },
    {
      "cell_type": "code",
      "source": [
        "text = text.strip('\\n')"
      ],
      "metadata": {
        "id": "mjq6wwsLpvBU"
      },
      "execution_count": 282,
      "outputs": []
    },
    {
      "cell_type": "code",
      "source": [
        "m = []\n",
        "for i in text.split('\\n'):\n",
        "  m.append(np.array(list(i)))\n",
        "m = np.matrix(m)\n",
        "m"
      ],
      "metadata": {
        "colab": {
          "base_uri": "https://localhost:8080/"
        },
        "id": "GbhFUDGfpu_G",
        "outputId": "261d9daa-cc09-4b6f-a110-dc8acfbecf3e"
      },
      "execution_count": 283,
      "outputs": [
        {
          "output_type": "execute_result",
          "data": {
            "text/plain": [
              "matrix([['X', 'A', 'X', ..., 'X', 'S', 'S'],\n",
              "        ['M', 'S', 'A', ..., 'A', 'M', 'X'],\n",
              "        ['A', 'X', 'A', ..., 'A', 'X', 'S'],\n",
              "        ...,\n",
              "        ['M', 'S', 'A', ..., 'A', 'X', 'X'],\n",
              "        ['A', 'S', 'A', ..., 'M', 'M', 'A'],\n",
              "        ['X', 'M', 'X', ..., 'X', 'S', 'X']], dtype='<U1')"
            ]
          },
          "metadata": {},
          "execution_count": 283
        }
      ]
    },
    {
      "cell_type": "code",
      "source": [
        "coord = []\n",
        "for i in range(len(np.where(m == 'X')[0])):\n",
        "  coord.append([np.where(m == 'X')[0][i], np.where(m == 'X')[1][i]])\n",
        "coord[:10]"
      ],
      "metadata": {
        "colab": {
          "base_uri": "https://localhost:8080/"
        },
        "id": "HI7IE6DuqFRL",
        "outputId": "42b21397-e276-4c3c-a295-03a6b719ee09"
      },
      "execution_count": 291,
      "outputs": [
        {
          "output_type": "execute_result",
          "data": {
            "text/plain": [
              "[[0, 0],\n",
              " [0, 2],\n",
              " [0, 5],\n",
              " [0, 7],\n",
              " [0, 8],\n",
              " [0, 18],\n",
              " [0, 21],\n",
              " [0, 25],\n",
              " [0, 33],\n",
              " [0, 41]]"
            ]
          },
          "metadata": {},
          "execution_count": 291
        }
      ]
    },
    {
      "cell_type": "code",
      "source": [
        "check = np.matrix(list('XMAS'))\n",
        "check2 = np.matrix(list('SAMX'))\n",
        "check3 = np.matrix(list('SAMX')).reshape(4,1)\n",
        "check4 = np.matrix(list('XMAS')).reshape(4,1)"
      ],
      "metadata": {
        "id": "3JCbK7jIgRbF"
      },
      "execution_count": 247,
      "outputs": []
    },
    {
      "cell_type": "code",
      "source": [
        "count = 0\n",
        "for i in coord:\n",
        "  try:\n",
        "    #if 0 <= i[1] + 4 < m.shape[1]:\n",
        "      if np.array_equal(m[i[0],i[1]:i[1]+4], check):\n",
        "        count += 1\n",
        "  except:\n",
        "    pass\n",
        "  try:\n",
        "    #if 0 <= i[1] - 4 < m.shape[1]:\n",
        "      if np.array_equal(m[i[0],i[1]-3:i[1]+1], check2):\n",
        "        count += 1\n",
        "  except:\n",
        "    pass\n",
        "  try:\n",
        "    #if 0 <= i[0] - 3 < m.shape[1]:\n",
        "      if np.array_equal(m[i[0]-3:i[0]+1,i[1]], check3):\n",
        "        count += 1\n",
        "  except:\n",
        "    pass\n",
        "  try:\n",
        "    #if 0 <= i[0] + 4 < m.shape[1]:\n",
        "      if np.array_equal(m[i[0]:i[0]+4,i[1]], check4):\n",
        "        count += 1\n",
        "  except:\n",
        "    pass\n",
        "count"
      ],
      "metadata": {
        "colab": {
          "base_uri": "https://localhost:8080/"
        },
        "id": "oaXTmfgsdxi-",
        "outputId": "38301822-e690-45d0-aeb6-fe980cddfdf6"
      },
      "execution_count": 304,
      "outputs": [
        {
          "output_type": "execute_result",
          "data": {
            "text/plain": [
              "853"
            ]
          },
          "metadata": {},
          "execution_count": 304
        }
      ]
    },
    {
      "cell_type": "code",
      "source": [
        "for i in coord:\n",
        "  try:\n",
        "    if 0 <= i[1] + 3 < m.shape[1] and 0 <= i[0] + 3 < m.shape[0]:\n",
        "      if m[i[0],i[1]] + m[i[0]+1,i[1]+1] + m[i[0]+2,i[1]+2] + m[i[0]+3,i[1]+3] == 'XMAS':\n",
        "        count +=1\n",
        "  except:\n",
        "    pass\n",
        "  try:\n",
        "    if 0 <= i[1] - 3 < m.shape[1] and 0 <= i[0] - 3 < m.shape[0]:\n",
        "      if m[i[0],i[1]] + m[i[0]-1,i[1]-1] + m[i[0]-2,i[1]-2] + m[i[0]-3,i[1]-3] == 'XMAS':\n",
        "        count +=1\n",
        "  except:\n",
        "    pass\n",
        "  try:\n",
        "    if 0 <= i[1] + 3 < m.shape[1] and 0 <= i[0] - 3 < m.shape[0]:\n",
        "      if m[i[0],i[1]] + m[i[0]-1,i[1]+1] + m[i[0]-2,i[1]+2] + m[i[0]-3,i[1]+3] == 'XMAS':\n",
        "        count +=1\n",
        "  except:\n",
        "    pass\n",
        "  try:\n",
        "    if 0 <= i[1] - 3 < m.shape[1] and 0 <= i[0] + 3 < m.shape[0]:\n",
        "      if m[i[0],i[1]] + m[i[0]+1,i[1]-1] + m[i[0]+2,i[1]-2] + m[i[0]+3,i[1]-3] == 'XMAS':\n",
        "        count +=1\n",
        "  except:\n",
        "    pass\n",
        "count"
      ],
      "metadata": {
        "colab": {
          "base_uri": "https://localhost:8080/"
        },
        "id": "KMW1yP9qkldN",
        "outputId": "96ca772a-e69f-44ac-e0d7-59417c27125f"
      },
      "execution_count": 305,
      "outputs": [
        {
          "output_type": "execute_result",
          "data": {
            "text/plain": [
              "2500"
            ]
          },
          "metadata": {},
          "execution_count": 305
        }
      ]
    },
    {
      "cell_type": "markdown",
      "source": [
        "## Часть 2"
      ],
      "metadata": {
        "id": "feDpNS15tmtI"
      }
    },
    {
      "cell_type": "code",
      "source": [
        "coord = []\n",
        "for i in range(len(np.where(m == 'A')[0])):\n",
        "  coord.append([np.where(m == 'A')[0][i], np.where(m == 'A')[1][i]])\n",
        "coord[:10]"
      ],
      "metadata": {
        "colab": {
          "base_uri": "https://localhost:8080/"
        },
        "id": "B_Q8iaj7rii2",
        "outputId": "db8c5c4a-1339-4e39-f969-9c99901076ac"
      },
      "execution_count": 333,
      "outputs": [
        {
          "output_type": "execute_result",
          "data": {
            "text/plain": [
              "[[0, 1],\n",
              " [0, 3],\n",
              " [0, 10],\n",
              " [0, 20],\n",
              " [0, 23],\n",
              " [0, 47],\n",
              " [0, 50],\n",
              " [0, 52],\n",
              " [0, 54],\n",
              " [0, 58]]"
            ]
          },
          "metadata": {},
          "execution_count": 333
        }
      ]
    },
    {
      "cell_type": "code",
      "source": [
        "count = 0\n",
        "for i in coord:\n",
        "  try:\n",
        "    if m[i[0]-1,i[1]-1] == 'S' and \\\n",
        "      m[i[0]-1,i[1]+1] == 'M' and \\\n",
        "      m[i[0]+1,i[1]-1] == 'S' and \\\n",
        "      m[i[0]+1,i[1]+1] == 'M' and \\\n",
        "      0 <= i[0] <= m.shape[0] and 0 <= i[1] <= m.shape[0]:\n",
        "        count += 1\n",
        "  except:\n",
        "    pass\n",
        "count # 488"
      ],
      "metadata": {
        "colab": {
          "base_uri": "https://localhost:8080/"
        },
        "id": "RvqDQBG5v8qA",
        "outputId": "40dcaeb5-efbf-4150-f291-1f394dacdd2f"
      },
      "execution_count": 334,
      "outputs": [
        {
          "output_type": "execute_result",
          "data": {
            "text/plain": [
              "488"
            ]
          },
          "metadata": {},
          "execution_count": 334
        }
      ]
    },
    {
      "cell_type": "code",
      "source": [
        "count = 0\n",
        "for i in coord:\n",
        "  try:\n",
        "    if m[i[0]-1,i[1]-1] == 'S' and \\\n",
        "      m[i[0]-1,i[1]+1] == 'M' and \\\n",
        "      m[i[0]+1,i[1]-1] == 'S' and \\\n",
        "      m[i[0]+1,i[1]+1] == 'M' and \\\n",
        "      0 <= i[0]+1 <= m.shape[0] and 0 <= i[1]+1 <= m.shape[0] and \\\n",
        "      0 <= i[0]-1 <= m.shape[0] and 0 <= i[1]-1 <= m.shape[0]:\n",
        "        count += 1\n",
        "  except:\n",
        "    pass\n",
        "\n",
        "  try:\n",
        "    if m[i[0]-1,i[1]-1] == 'M' and \\\n",
        "      m[i[0]-1,i[1]+1] == 'S' and \\\n",
        "      m[i[0]+1,i[1]-1] == 'M' and \\\n",
        "      m[i[0]+1,i[1]+1] == 'S' and \\\n",
        "      0 <= i[0]+1 <= m.shape[0] and 0 <= i[1]+1 <= m.shape[0] and \\\n",
        "      0 <= i[0]-1 <= m.shape[0] and 0 <= i[1]-1 <= m.shape[0]:\n",
        "        count += 1\n",
        "  except:\n",
        "    pass\n",
        "\n",
        "  try:\n",
        "    if m[i[0]-1,i[1]-1] == 'S' and \\\n",
        "      m[i[0]-1,i[1]+1] == 'S' and \\\n",
        "      m[i[0]+1,i[1]-1] == 'M' and \\\n",
        "      m[i[0]+1,i[1]+1] == 'M' and \\\n",
        "      0 <= i[0]+1 <= m.shape[0] and 0 <= i[1]+1 <= m.shape[0] and \\\n",
        "      0 <= i[0]-1 <= m.shape[0] and 0 <= i[1]-1 <= m.shape[0]:\n",
        "        count += 1\n",
        "  except:\n",
        "    pass\n",
        "\n",
        "  try:\n",
        "    if m[i[0]-1,i[1]-1] == 'M' and \\\n",
        "      m[i[0]-1,i[1]+1] == 'M' and \\\n",
        "      m[i[0]+1,i[1]-1] == 'S' and \\\n",
        "      m[i[0]+1,i[1]+1] == 'S' and \\\n",
        "      0 <= i[0]+1 <= m.shape[0] and 0 <= i[1]+1 <= m.shape[0] and \\\n",
        "      0 <= i[0]-1 <= m.shape[0] and 0 <= i[1]-1 <= m.shape[0]:\n",
        "        count += 1\n",
        "  except:\n",
        "    pass\n",
        "\n",
        "count"
      ],
      "metadata": {
        "colab": {
          "base_uri": "https://localhost:8080/"
        },
        "id": "Q5ag6mvrrigN",
        "outputId": "484563de-6937-4266-e80b-7163f8df76a2"
      },
      "execution_count": 337,
      "outputs": [
        {
          "output_type": "execute_result",
          "data": {
            "text/plain": [
              "1933"
            ]
          },
          "metadata": {},
          "execution_count": 337
        }
      ]
    },
    {
      "cell_type": "markdown",
      "source": [
        "### Неудачные попытки\n",
        "\n",
        "В этот раз было сложно......... 🥺"
      ],
      "metadata": {
        "id": "TrcCuLllrWhr"
      }
    },
    {
      "cell_type": "code",
      "source": [
        "test = '''MMMSXXMASM\n",
        "MSAMXMSMSA\n",
        "AMXSXMAAMM\n",
        "MSAMASMSMX\n",
        "XMASAMXAMM\n",
        "XXAMMXXAMA\n",
        "SMSMSASXSS\n",
        "SAXAMASAAA\n",
        "MAMMMXMMMM\n",
        "MXMXAXMASX'''\n",
        "\n",
        "import re\n",
        "print(re.findall(r'XMAS', test))\n",
        "print(re.findall(r'XMAS', test[::-1]))\n",
        "vert = []\n",
        "for i in range(len(test.split('\\n')[0])): # 0-9\n",
        "  s = ''\n",
        "  for xm in test.split('\\n'):\n",
        "    s += xm[i]\n",
        "  vert.append(s)\n",
        "print(re.findall(r'XMAS', '\\n'.join(vert)))\n",
        "print(re.findall(r'XMAS', '\\n'.join(vert)[::-1]))"
      ],
      "metadata": {
        "id": "BgTejf-GVYAF",
        "colab": {
          "base_uri": "https://localhost:8080/"
        },
        "outputId": "56b4a594-510d-4d7f-cb86-73c827ab5118"
      },
      "execution_count": 146,
      "outputs": [
        {
          "output_type": "stream",
          "name": "stdout",
          "text": [
            "['XMAS', 'XMAS', 'XMAS']\n",
            "['XMAS', 'XMAS']\n",
            "['XMAS']\n",
            "['XMAS', 'XMAS']\n"
          ]
        }
      ]
    },
    {
      "cell_type": "code",
      "source": [
        "dia = []\n",
        "for str1 in range(len(test.split('\\n')[0])):\n",
        "  ind = str1\n",
        "  s = ''\n",
        "  for i in test.split('\\n'):\n",
        "    try:\n",
        "      s += i[ind]\n",
        "      ind += 1\n",
        "    except:\n",
        "      pass\n",
        "  dia.append(s)\n",
        "text_my_split = []\n",
        "for i in range(len(test.split('\\n')[1:])):\n",
        "  my_split = test.split('\\n')[i:]\n",
        "  text_my_split.append(my_split)\n",
        "for txt in text_my_split[1:]:\n",
        "  s = ''\n",
        "  ind = 0\n",
        "  for n in range(len(txt)):\n",
        "    s += txt[n][ind]\n",
        "    ind += 1\n",
        "  dia.append(s)\n",
        "print(re.findall(r'XMAS', '\\n'.join(dia)))\n",
        "print(re.findall(r'XMAS', '\\n'.join(dia)[::-1]))\n",
        "\n",
        "# не все диагонали"
      ],
      "metadata": {
        "colab": {
          "base_uri": "https://localhost:8080/"
        },
        "id": "Y4fLWafQrsXL",
        "outputId": "765336db-49aa-4afc-85e3-8967578f054a"
      },
      "execution_count": 135,
      "outputs": [
        {
          "output_type": "stream",
          "name": "stdout",
          "text": [
            "['XMAS']\n",
            "['XMAS', 'XMAS', 'XMAS', 'XMAS']\n"
          ]
        }
      ]
    }
  ]
}