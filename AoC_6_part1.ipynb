{
  "nbformat": 4,
  "nbformat_minor": 0,
  "metadata": {
    "colab": {
      "provenance": [],
      "authorship_tag": "ABX9TyN4P4KVoq9vcyXtn7QKjhyK",
      "include_colab_link": true
    },
    "kernelspec": {
      "name": "python3",
      "display_name": "Python 3"
    },
    "language_info": {
      "name": "python"
    }
  },
  "cells": [
    {
      "cell_type": "markdown",
      "metadata": {
        "id": "view-in-github",
        "colab_type": "text"
      },
      "source": [
        "<a href=\"https://colab.research.google.com/github/AnnSenina/AoC2024/blob/main/AoC_6_part1.ipynb\" target=\"_parent\"><img src=\"https://colab.research.google.com/assets/colab-badge.svg\" alt=\"Open In Colab\"/></a>"
      ]
    },
    {
      "cell_type": "code",
      "execution_count": null,
      "metadata": {
        "id": "vdUQoPAlW6eS"
      },
      "outputs": [],
      "source": [
        "test = '''....#.....\n",
        ".........#\n",
        "..........\n",
        "..#.......\n",
        ".......#..\n",
        "..........\n",
        ".#..^.....\n",
        "........#.\n",
        "#.........\n",
        "......#...'''"
      ]
    },
    {
      "cell_type": "code",
      "source": [
        "import numpy as np\n",
        "\n",
        "m = []\n",
        "for i in test.split('\\n'):\n",
        "  m.append(np.array(list(i)))\n",
        "m = np.matrix(m)\n",
        "m"
      ],
      "metadata": {
        "colab": {
          "base_uri": "https://localhost:8080/"
        },
        "id": "kNuozDIUW-2u",
        "outputId": "28e91e44-2650-44ab-d694-42b670261610"
      },
      "execution_count": null,
      "outputs": [
        {
          "output_type": "execute_result",
          "data": {
            "text/plain": [
              "matrix([['.', '.', '.', '.', '#', '.', '.', '.', '.', '.'],\n",
              "        ['.', '.', '.', '.', '.', '.', '.', '.', '.', '#'],\n",
              "        ['.', '.', '.', '.', '.', '.', '.', '.', '.', '.'],\n",
              "        ['.', '.', '#', '.', '.', '.', '.', '.', '.', '.'],\n",
              "        ['.', '.', '.', '.', '.', '.', '.', '#', '.', '.'],\n",
              "        ['.', '.', '.', '.', '.', '.', '.', '.', '.', '.'],\n",
              "        ['.', '#', '.', '.', '^', '.', '.', '.', '.', '.'],\n",
              "        ['.', '.', '.', '.', '.', '.', '.', '.', '#', '.'],\n",
              "        ['#', '.', '.', '.', '.', '.', '.', '.', '.', '.'],\n",
              "        ['.', '.', '.', '.', '.', '.', '#', '.', '.', '.']], dtype='<U1')"
            ]
          },
          "metadata": {},
          "execution_count": 188
        }
      ]
    },
    {
      "cell_type": "code",
      "source": [
        "row, col = np.where(m == '^')"
      ],
      "metadata": {
        "id": "BGPKJpQ3YcTv"
      },
      "execution_count": null,
      "outputs": []
    },
    {
      "cell_type": "code",
      "source": [
        "count_step = 0\n",
        "\n",
        "while row != -1 :\n",
        "  while m[row - 1, col] != '#':\n",
        "    row, col = np.where(m == '^')\n",
        "    m[row, col] = 'X'\n",
        "    if row == 0:\n",
        "      break\n",
        "    count_step += 1\n",
        "    row =  row - 1\n",
        "    if m[row, col] == 'X':\n",
        "      count_step -= 1\n",
        "    m[row, col] = '^'\n",
        "  if row == 0:\n",
        "    count_step += 1\n",
        "    break\n",
        "  m = np.rot90(m, k=1)"
      ],
      "metadata": {
        "id": "60i4KBw8cSSQ"
      },
      "execution_count": null,
      "outputs": []
    },
    {
      "cell_type": "code",
      "source": [
        "m"
      ],
      "metadata": {
        "colab": {
          "base_uri": "https://localhost:8080/"
        },
        "id": "N9ekxNoycvwB",
        "outputId": "185b168d-a356-4db1-b951-65ba726e88ae"
      },
      "execution_count": null,
      "outputs": [
        {
          "output_type": "execute_result",
          "data": {
            "text/plain": [
              "matrix([['.', '.', 'X', '#', '.', '.', '.', '.', '.', '.'],\n",
              "        ['.', '.', 'X', 'X', 'X', 'X', 'X', 'X', 'X', '#'],\n",
              "        ['.', '#', 'X', 'X', 'X', 'X', 'X', 'X', 'X', '.'],\n",
              "        ['.', 'X', 'X', 'X', 'X', 'X', 'X', 'X', '#', '.'],\n",
              "        ['.', 'X', '.', 'X', '.', 'X', '.', 'X', '.', '.'],\n",
              "        ['.', 'X', '#', 'X', 'X', 'X', 'X', 'X', '.', '.'],\n",
              "        ['.', 'X', '.', '.', '.', 'X', '.', '#', '.', '.'],\n",
              "        ['.', 'X', '.', '.', '.', 'X', '.', '.', '.', '.'],\n",
              "        ['#', 'X', 'X', 'X', 'X', 'X', '.', '.', '.', '.'],\n",
              "        ['.', '.', '.', '.', '.', '#', '.', '.', '.', '.']], dtype='<U1')"
            ]
          },
          "metadata": {},
          "execution_count": 32
        }
      ]
    },
    {
      "cell_type": "code",
      "source": [
        "count_step"
      ],
      "metadata": {
        "colab": {
          "base_uri": "https://localhost:8080/"
        },
        "id": "WWwTrWCpcuqQ",
        "outputId": "26cf7880-51e5-41b1-bf52-12e441d4ec17"
      },
      "execution_count": null,
      "outputs": [
        {
          "output_type": "execute_result",
          "data": {
            "text/plain": [
              "41"
            ]
          },
          "metadata": {},
          "execution_count": 33
        }
      ]
    },
    {
      "cell_type": "markdown",
      "source": [
        "## Задача 1"
      ],
      "metadata": {
        "id": "Lmzajajzewx6"
      }
    },
    {
      "cell_type": "code",
      "source": [
        "with open('input6.txt') as f:\n",
        "  text = f.read()\n",
        "  text = text.strip()"
      ],
      "metadata": {
        "id": "3tmKt7n488dg"
      },
      "execution_count": null,
      "outputs": []
    },
    {
      "cell_type": "code",
      "source": [
        "m = []\n",
        "for i in text.split('\\n'):\n",
        "  m.append(np.array(list(i)))\n",
        "m = np.matrix(m)\n",
        "m"
      ],
      "metadata": {
        "colab": {
          "base_uri": "https://localhost:8080/"
        },
        "id": "-BDOO_Ul9IBH",
        "outputId": "09df57be-5182-4f3b-c8f2-13c88a4a4b9b"
      },
      "execution_count": null,
      "outputs": [
        {
          "output_type": "execute_result",
          "data": {
            "text/plain": [
              "matrix([['.', '#', '.', ..., '.', '.', '#'],\n",
              "        ['.', '.', '.', ..., '.', '.', '.'],\n",
              "        ['.', '.', '.', ..., '.', '.', '.'],\n",
              "        ...,\n",
              "        ['.', '.', '.', ..., '.', '.', '.'],\n",
              "        ['.', '.', '.', ..., '.', '.', '.'],\n",
              "        ['.', '.', '.', ..., '.', '.', '.']], dtype='<U1')"
            ]
          },
          "metadata": {},
          "execution_count": 306
        }
      ]
    },
    {
      "cell_type": "code",
      "source": [
        "row, col = np.where(m == '^')"
      ],
      "metadata": {
        "id": "pFStTtt5--KL"
      },
      "execution_count": null,
      "outputs": []
    },
    {
      "cell_type": "code",
      "source": [
        "np.where(m == '^')"
      ],
      "metadata": {
        "colab": {
          "base_uri": "https://localhost:8080/"
        },
        "id": "QaF8UdRrwZeU",
        "outputId": "f3948a9c-197a-438e-8ea5-e6afce98df8d"
      },
      "execution_count": null,
      "outputs": [
        {
          "output_type": "execute_result",
          "data": {
            "text/plain": [
              "(array([58]), array([80]))"
            ]
          },
          "metadata": {},
          "execution_count": 172
        }
      ]
    },
    {
      "cell_type": "code",
      "source": [
        "count_step = 0\n",
        "\n",
        "while row != -1 :\n",
        "  while m[row - 1, col] != '#':\n",
        "    #if count_step > 285:\n",
        "      #print(row, col)\n",
        "    row, col = np.where(m == '^')\n",
        "    m[row, col] = 'X'\n",
        "    if row == 0:\n",
        "      break\n",
        "    count_step += 1\n",
        "    row =  row - 1\n",
        "    if m[row, col] == 'X':\n",
        "      count_step -= 1\n",
        "    m[row, col] = '^'\n",
        "  if row == 0:\n",
        "    count_step += 1\n",
        "    break\n",
        "  m = np.rot90(m, k=1)\n",
        "  row, col = np.where(m == '^')\n",
        "  #print('поворот')"
      ],
      "metadata": {
        "id": "j7pINE2a-qgH"
      },
      "execution_count": null,
      "outputs": []
    },
    {
      "cell_type": "code",
      "source": [
        "m"
      ],
      "metadata": {
        "colab": {
          "base_uri": "https://localhost:8080/"
        },
        "id": "255O-ekP_JF-",
        "outputId": "42d05e06-13c1-41b4-f9f3-acca2c154254"
      },
      "execution_count": null,
      "outputs": [
        {
          "output_type": "execute_result",
          "data": {
            "text/plain": [
              "matrix([['.', '.', 'X', '#', '.', '.', '.', '.', '.', '.'],\n",
              "        ['.', '.', 'X', 'X', 'X', 'X', 'X', 'X', 'X', '#'],\n",
              "        ['.', '#', 'X', 'X', 'X', 'X', 'X', 'X', 'X', '.'],\n",
              "        ['.', 'X', 'X', 'X', 'X', 'X', 'X', 'X', '#', '.'],\n",
              "        ['.', 'X', '.', 'X', '.', 'X', '.', 'X', '.', '.'],\n",
              "        ['.', 'X', '#', 'X', 'X', 'X', 'X', 'X', '.', '.'],\n",
              "        ['.', 'X', '.', '.', '.', 'X', '.', '#', '.', '.'],\n",
              "        ['.', 'X', '.', '.', '.', 'X', '.', '.', '.', '.'],\n",
              "        ['#', 'X', 'X', 'X', 'X', 'X', '.', '.', '.', '.'],\n",
              "        ['.', '.', '.', '.', '.', '#', '.', '.', '.', '.']], dtype='<U1')"
            ]
          },
          "metadata": {},
          "execution_count": 9
        }
      ]
    },
    {
      "cell_type": "code",
      "source": [
        "count_step"
      ],
      "metadata": {
        "colab": {
          "base_uri": "https://localhost:8080/"
        },
        "id": "E9PBpEjF_Cgb",
        "outputId": "8f6c7c26-340f-459e-c9a4-3bb68c77f4c5"
      },
      "execution_count": null,
      "outputs": [
        {
          "output_type": "execute_result",
          "data": {
            "text/plain": [
              "4890"
            ]
          },
          "metadata": {},
          "execution_count": 48
        }
      ]
    }
  ]
}