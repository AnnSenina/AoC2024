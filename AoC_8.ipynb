{
  "nbformat": 4,
  "nbformat_minor": 0,
  "metadata": {
    "colab": {
      "provenance": [],
      "authorship_tag": "ABX9TyMUpQ1q3dIuONTpeQDTF0iM",
      "include_colab_link": true
    },
    "kernelspec": {
      "name": "python3",
      "display_name": "Python 3"
    },
    "language_info": {
      "name": "python"
    }
  },
  "cells": [
    {
      "cell_type": "markdown",
      "metadata": {
        "id": "view-in-github",
        "colab_type": "text"
      },
      "source": [
        "<a href=\"https://colab.research.google.com/github/AnnSenina/AoC2024/blob/main/AoC_8.ipynb\" target=\"_parent\"><img src=\"https://colab.research.google.com/assets/colab-badge.svg\" alt=\"Open In Colab\"/></a>"
      ]
    },
    {
      "cell_type": "markdown",
      "source": [
        "# День 8"
      ],
      "metadata": {
        "id": "JSLjYxhkLU7T"
      }
    },
    {
      "cell_type": "code",
      "source": [
        "test = '''............\n",
        "........0...\n",
        ".....0......\n",
        ".......0....\n",
        "....0.......\n",
        "......A.....\n",
        "............\n",
        "............\n",
        "........A...\n",
        ".........A..\n",
        "............\n",
        "............'''.split('\\n')\n",
        "\n",
        "\n",
        "import numpy as np\n",
        "\n",
        "m = []\n",
        "for i in test:\n",
        "  m.append(np.array(list(i)))\n",
        "m = np.matrix(m)\n",
        "m\n",
        ""
      ],
      "metadata": {
        "colab": {
          "base_uri": "https://localhost:8080/"
        },
        "id": "eIVC_YNWLaQN",
        "outputId": "08a1bef4-7cb4-4305-f6a2-778d08d52d22"
      },
      "execution_count": 4,
      "outputs": [
        {
          "output_type": "execute_result",
          "data": {
            "text/plain": [
              "matrix([['.', '.', '.', '.', '.', '.', '.', '.', '.', '.', '.', '.'],\n",
              "        ['.', '.', '.', '.', '.', '.', '.', '.', '0', '.', '.', '.'],\n",
              "        ['.', '.', '.', '.', '.', '0', '.', '.', '.', '.', '.', '.'],\n",
              "        ['.', '.', '.', '.', '.', '.', '.', '0', '.', '.', '.', '.'],\n",
              "        ['.', '.', '.', '.', '0', '.', '.', '.', '.', '.', '.', '.'],\n",
              "        ['.', '.', '.', '.', '.', '.', 'A', '.', '.', '.', '.', '.'],\n",
              "        ['.', '.', '.', '.', '.', '.', '.', '.', '.', '.', '.', '.'],\n",
              "        ['.', '.', '.', '.', '.', '.', '.', '.', '.', '.', '.', '.'],\n",
              "        ['.', '.', '.', '.', '.', '.', '.', '.', 'A', '.', '.', '.'],\n",
              "        ['.', '.', '.', '.', '.', '.', '.', '.', '.', 'A', '.', '.'],\n",
              "        ['.', '.', '.', '.', '.', '.', '.', '.', '.', '.', '.', '.'],\n",
              "        ['.', '.', '.', '.', '.', '.', '.', '.', '.', '.', '.', '.']],\n",
              "       dtype='<U1')"
            ]
          },
          "metadata": {},
          "execution_count": 4
        }
      ]
    },
    {
      "cell_type": "code",
      "source": [
        "import pandas as pd\n",
        "\n",
        "df = pd.DataFrame(m)\n",
        "df.to_excel('try1.xlsx')"
      ],
      "metadata": {
        "id": "qxRHJWUrMA3K"
      },
      "execution_count": 3,
      "outputs": []
    },
    {
      "cell_type": "code",
      "source": [
        "res = []\n",
        "for i in range(len(np.where(m == 'A')[0])):\n",
        "  res.append((np.where(m == 'A')[0][i], np.where(m == 'A')[1][i]))\n",
        "res"
      ],
      "metadata": {
        "colab": {
          "base_uri": "https://localhost:8080/"
        },
        "id": "RVYPeoIxNnTr",
        "outputId": "a34e1124-ecbe-44e9-d509-061e8a8e5bf0"
      },
      "execution_count": 11,
      "outputs": [
        {
          "output_type": "execute_result",
          "data": {
            "text/plain": [
              "[(5, 6), (8, 8), (9, 9)]"
            ]
          },
          "metadata": {},
          "execution_count": 11
        }
      ]
    },
    {
      "cell_type": "code",
      "source": [
        "import itertools\n",
        "\n",
        "clean_comb = []\n",
        "for i in list(itertools.permutations(res, 2)):\n",
        "  if (i[1], i[0]) not in clean_comb:\n",
        "    clean_comb.append(i)\n",
        "clean_comb"
      ],
      "metadata": {
        "colab": {
          "base_uri": "https://localhost:8080/"
        },
        "id": "cgLtQ0uyPr16",
        "outputId": "7b7fb5a1-0879-4981-af84-c459b4094397"
      },
      "execution_count": 28,
      "outputs": [
        {
          "output_type": "execute_result",
          "data": {
            "text/plain": [
              "[((5, 6), (8, 8)), ((5, 6), (9, 9)), ((8, 8), (9, 9))]"
            ]
          },
          "metadata": {},
          "execution_count": 28
        }
      ]
    },
    {
      "cell_type": "code",
      "source": [
        "res = []\n",
        "for a, b in clean_comb:\n",
        "  dist1 = a[0] - b[0], a[1] - b[1]\n",
        "  point1 = b[0] - dist1[0], b[1] - dist1[1]\n",
        "  if 0 <= point1[0] <= (m.shape[0] - 1) and 0 <= point1[1] <= (m.shape[0] - 1):\n",
        "    res.append(point1)\n",
        "\n",
        "  dist2 = b[0] - a[0], b[1] - a[1]\n",
        "  point2 = a[0] - dist2[0], a[1] - dist2[1]\n",
        "  if 0 <= point2[0] <= (m.shape[0] - 1) and 0 <= point2[1] <= (m.shape[0] - 1):\n",
        "    res.append(point2)\n",
        "res"
      ],
      "metadata": {
        "colab": {
          "base_uri": "https://localhost:8080/"
        },
        "id": "GbC1wt0OQLB5",
        "outputId": "052e925a-99c5-4fbf-f8f6-597f00cc2e2a"
      },
      "execution_count": 34,
      "outputs": [
        {
          "output_type": "execute_result",
          "data": {
            "text/plain": [
              "[(11, 10), (2, 4), (1, 3), (10, 10), (7, 7)]"
            ]
          },
          "metadata": {},
          "execution_count": 34
        }
      ]
    },
    {
      "cell_type": "code",
      "source": [
        "def find_coord(sym):\n",
        "  res = []\n",
        "  for i in range(len(np.where(m == sym)[0])):\n",
        "    res.append((np.where(m == sym)[0][i], np.where(m == sym)[1][i]))\n",
        "  return res\n",
        "\n",
        "def clean_coord(sym):\n",
        "  clean_comb = []\n",
        "  for i in list(itertools.permutations(find_coord(sym), 2)):\n",
        "    if (i[1], i[0]) not in clean_comb:\n",
        "      clean_comb.append(i)\n",
        "  return clean_comb\n",
        "\n",
        "def find_points(sym):\n",
        "  res = []\n",
        "  for a, b in clean_coord(sym):\n",
        "    dist1 = a[0] - b[0], a[1] - b[1]\n",
        "    point1 = b[0] - dist1[0], b[1] - dist1[1]\n",
        "    if 0 <= point1[0] <= (m.shape[0] - 1) and 0 <= point1[1] <= (m.shape[0] - 1):\n",
        "      if point1 not in res:\n",
        "        res.append(point1)\n",
        "\n",
        "    dist2 = b[0] - a[0], b[1] - a[1]\n",
        "    point2 = a[0] - dist2[0], a[1] - dist2[1]\n",
        "    if 0 <= point2[0] <= (m.shape[0] - 1) and 0 <= point2[1] <= (m.shape[0] - 1):\n",
        "      if point2 not in res:\n",
        "        res.append(point2)\n",
        "  return res"
      ],
      "metadata": {
        "id": "flAzkMhZSmwQ"
      },
      "execution_count": 59,
      "outputs": []
    },
    {
      "cell_type": "code",
      "source": [
        "find_points('0')"
      ],
      "metadata": {
        "colab": {
          "base_uri": "https://localhost:8080/"
        },
        "id": "DKhZpNPGTvEw",
        "outputId": "4063531f-4e27-4e40-fea7-137207c68f65"
      },
      "execution_count": 42,
      "outputs": [
        {
          "output_type": "execute_result",
          "data": {
            "text/plain": [
              "[(3, 2),\n",
              " (0, 11),\n",
              " (5, 6),\n",
              " (7, 0),\n",
              " (4, 9),\n",
              " (1, 3),\n",
              " (6, 3),\n",
              " (0, 6),\n",
              " (5, 1),\n",
              " (2, 10)]"
            ]
          },
          "metadata": {},
          "execution_count": 42
        }
      ]
    },
    {
      "cell_type": "markdown",
      "source": [
        "## Задача 1"
      ],
      "metadata": {
        "id": "bu1KMVtqVeIW"
      }
    },
    {
      "cell_type": "code",
      "source": [
        "with open('input8.txt') as f:\n",
        "  text = f.read()\n",
        "text = text.strip()"
      ],
      "metadata": {
        "id": "ls_OPGJIVgF2"
      },
      "execution_count": 114,
      "outputs": []
    },
    {
      "cell_type": "code",
      "source": [
        "import numpy as np\n",
        "\n",
        "m = []\n",
        "for i in text.split('\\n'):\n",
        "  m.append(np.array(list(i)))\n",
        "m = np.matrix(m)\n",
        "m\n",
        ""
      ],
      "metadata": {
        "colab": {
          "base_uri": "https://localhost:8080/"
        },
        "id": "7C_F7zCDnLU5",
        "outputId": "7b1222aa-5105-4d92-f55f-13a5e67489e4"
      },
      "execution_count": 115,
      "outputs": [
        {
          "output_type": "execute_result",
          "data": {
            "text/plain": [
              "matrix([['.', '.', '.', ..., '.', '.', '.'],\n",
              "        ['.', '.', '.', ..., '.', '.', '.'],\n",
              "        ['.', '.', '.', ..., '.', '.', '.'],\n",
              "        ...,\n",
              "        ['.', '.', '.', ..., '.', '.', '.'],\n",
              "        ['.', 'B', '.', ..., '.', '.', '.'],\n",
              "        ['.', '.', '.', ..., '.', '.', '.']], dtype='<U1')"
            ]
          },
          "metadata": {},
          "execution_count": 115
        }
      ]
    },
    {
      "cell_type": "code",
      "source": [
        "np.unique(np.array(m.reshape(2500,)))"
      ],
      "metadata": {
        "colab": {
          "base_uri": "https://localhost:8080/"
        },
        "id": "gQRqU_bYnVQy",
        "outputId": "aae0a48e-3537-40a2-d754-2bf451ba53df"
      },
      "execution_count": 55,
      "outputs": [
        {
          "output_type": "execute_result",
          "data": {
            "text/plain": [
              "array(['.', '0', '1', '2', '3', '4', '5', '6', '7', '8', '9', 'B', 'C',\n",
              "       'D', 'E', 'F', 'M', 'N', 'Q', 'S', 'U', 'V', 'W', 'Z', 'b', 'c',\n",
              "       'd', 'e', 'f', 'm', 'n', 'q', 's', 'u', 'v', 'w', 'z'], dtype='<U1')"
            ]
          },
          "metadata": {},
          "execution_count": 55
        }
      ]
    },
    {
      "cell_type": "code",
      "source": [
        "res = []\n",
        "for i in list(np.unique(np.array(m.reshape(2500,)))[1:]):\n",
        "  sym = find_points(i)\n",
        "  for s in sym:\n",
        "    if s not in res:\n",
        "      res.append(s)"
      ],
      "metadata": {
        "id": "az076ZUWoZfA"
      },
      "execution_count": 69,
      "outputs": []
    },
    {
      "cell_type": "code",
      "source": [
        "len(res)"
      ],
      "metadata": {
        "colab": {
          "base_uri": "https://localhost:8080/"
        },
        "id": "Ix76aIk_o2-S",
        "outputId": "f555fd90-c784-44c9-b02f-5a8e6f41a709"
      },
      "execution_count": 70,
      "outputs": [
        {
          "output_type": "execute_result",
          "data": {
            "text/plain": [
              "228"
            ]
          },
          "metadata": {},
          "execution_count": 70
        }
      ]
    },
    {
      "cell_type": "markdown",
      "source": [
        "## Задача 2"
      ],
      "metadata": {
        "id": "ayYkrHnPs35g"
      }
    },
    {
      "cell_type": "code",
      "source": [
        "def find_coord(sym):\n",
        "  res = []\n",
        "  for i in range(len(np.where(m == sym)[0])):\n",
        "    res.append((np.where(m == sym)[0][i], np.where(m == sym)[1][i]))\n",
        "  return res\n",
        "\n",
        "def clean_coord(sym):\n",
        "  clean_comb = []\n",
        "  for i in list(itertools.permutations(find_coord(sym), 2)):\n",
        "    if (i[1], i[0]) not in clean_comb:\n",
        "      clean_comb.append(i)\n",
        "  return clean_comb\n",
        "\n",
        "def find_points(sym):\n",
        "  res = []\n",
        "  for a, b in clean_coord(sym):\n",
        "    dist1 = a[0] - b[0], a[1] - b[1]\n",
        "    point1 = b[0] - dist1[0], b[1] - dist1[1]\n",
        "    start = point1\n",
        "    while -1 < point1[0] <= (m.shape[0] - 1) and -1 < point1[1] <= (m.shape[0] - 1):\n",
        "      if point1 not in res:\n",
        "        res.append(point1)\n",
        "      point1 = point1[0] - dist1[0], point1[1] - dist1[1]\n",
        "    point1 = start\n",
        "    while -1 < point1[0] <= (m.shape[0] - 1) and -1 < point1[1] <= (m.shape[0] - 1):\n",
        "      if point1 not in res:\n",
        "        res.append(point1)\n",
        "      point1 = point1[0] + dist1[0], point1[1] + dist1[1]\n",
        "\n",
        "    dist2 = b[0] - a[0], b[1] - a[1]\n",
        "    point2 = a[0] - dist2[0], a[1] - dist2[1]\n",
        "    start = point2\n",
        "    while -1 < point2[0] <= (m.shape[0] - 1) and -1 < point2[1] <= (m.shape[0] - 1):\n",
        "      if point2 not in res:\n",
        "        res.append(point2)\n",
        "      point2 = point2[0] - dist1[0], point2[1] - dist1[1]\n",
        "    point2 = start\n",
        "    while -1 < point2[0] <= (m.shape[0] - 1) and -1 < point2[1] <= (m.shape[0] - 1):\n",
        "      if point2 not in res:\n",
        "        res.append(point2)\n",
        "      point2 = point2[0] + dist1[0], point2[1] + dist1[1]\n",
        "\n",
        "  return res"
      ],
      "metadata": {
        "id": "rYkvC-YLs3oo"
      },
      "execution_count": 102,
      "outputs": []
    },
    {
      "cell_type": "code",
      "source": [
        "test = '''............\n",
        "........0...\n",
        ".....0......\n",
        ".......0....\n",
        "....0.......\n",
        "......A.....\n",
        "............\n",
        "............\n",
        "........A...\n",
        ".........A..\n",
        "............\n",
        "............'''.split('\\n')\n",
        "\n",
        "\n",
        "import numpy as np\n",
        "\n",
        "m = []\n",
        "for i in test:\n",
        "  m.append(np.array(list(i)))\n",
        "m = np.matrix(m)\n",
        "m\n",
        ""
      ],
      "metadata": {
        "colab": {
          "base_uri": "https://localhost:8080/"
        },
        "id": "6qc2BWmysrjc",
        "outputId": "20d0911f-c057-4dee-be0e-8af26b71b183"
      },
      "execution_count": 110,
      "outputs": [
        {
          "output_type": "execute_result",
          "data": {
            "text/plain": [
              "matrix([['.', '.', '.', '.', '.', '.', '.', '.', '.', '.', '.', '.'],\n",
              "        ['.', '.', '.', '.', '.', '.', '.', '.', '0', '.', '.', '.'],\n",
              "        ['.', '.', '.', '.', '.', '0', '.', '.', '.', '.', '.', '.'],\n",
              "        ['.', '.', '.', '.', '.', '.', '.', '0', '.', '.', '.', '.'],\n",
              "        ['.', '.', '.', '.', '0', '.', '.', '.', '.', '.', '.', '.'],\n",
              "        ['.', '.', '.', '.', '.', '.', 'A', '.', '.', '.', '.', '.'],\n",
              "        ['.', '.', '.', '.', '.', '.', '.', '.', '.', '.', '.', '.'],\n",
              "        ['.', '.', '.', '.', '.', '.', '.', '.', '.', '.', '.', '.'],\n",
              "        ['.', '.', '.', '.', '.', '.', '.', '.', 'A', '.', '.', '.'],\n",
              "        ['.', '.', '.', '.', '.', '.', '.', '.', '.', 'A', '.', '.'],\n",
              "        ['.', '.', '.', '.', '.', '.', '.', '.', '.', '.', '.', '.'],\n",
              "        ['.', '.', '.', '.', '.', '.', '.', '.', '.', '.', '.', '.']],\n",
              "       dtype='<U1')"
            ]
          },
          "metadata": {},
          "execution_count": 110
        }
      ]
    },
    {
      "cell_type": "code",
      "source": [
        "res = []\n",
        "for i in list(np.unique(np.array(m.reshape(2500,)))[1:]):\n",
        "  sym = find_points(i)\n",
        "  for s in sym:\n",
        "    if s not in res:\n",
        "      res.append(s)"
      ],
      "metadata": {
        "id": "Fuon3Z415r4S"
      },
      "execution_count": 116,
      "outputs": []
    },
    {
      "cell_type": "code",
      "source": [
        "for i in list(np.unique(np.array(m.reshape(2500,)))[1:]):\n",
        "  sym = clean_coord(i)\n",
        "  for i in sym:\n",
        "    if i[0] not in res:\n",
        "      res.append(i[0])\n",
        "    if i[1] not in res:\n",
        "      res.append(i[1])"
      ],
      "metadata": {
        "id": "uX4TAPaY6lb5"
      },
      "execution_count": 121,
      "outputs": []
    },
    {
      "cell_type": "code",
      "source": [
        "len(res)"
      ],
      "metadata": {
        "colab": {
          "base_uri": "https://localhost:8080/"
        },
        "id": "mfcJoQ-L5xiY",
        "outputId": "2961bc74-3973-4ec1-cc9c-1b4ba6489678"
      },
      "execution_count": 122,
      "outputs": [
        {
          "output_type": "execute_result",
          "data": {
            "text/plain": [
              "766"
            ]
          },
          "metadata": {},
          "execution_count": 122
        }
      ]
    }
  ]
}