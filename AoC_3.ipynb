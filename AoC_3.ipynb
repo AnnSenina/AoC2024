{
  "nbformat": 4,
  "nbformat_minor": 0,
  "metadata": {
    "colab": {
      "provenance": [],
      "authorship_tag": "ABX9TyP69y/frTwjBL67qjlB8tWG",
      "include_colab_link": true
    },
    "kernelspec": {
      "name": "python3",
      "display_name": "Python 3"
    },
    "language_info": {
      "name": "python"
    }
  },
  "cells": [
    {
      "cell_type": "markdown",
      "metadata": {
        "id": "view-in-github",
        "colab_type": "text"
      },
      "source": [
        "<a href=\"https://colab.research.google.com/github/AnnSenina/AoC2024/blob/main/AoC_3.ipynb\" target=\"_parent\"><img src=\"https://colab.research.google.com/assets/colab-badge.svg\" alt=\"Open In Colab\"/></a>"
      ]
    },
    {
      "cell_type": "markdown",
      "source": [
        "# День 3.\n",
        "\n",
        "## Задача 1"
      ],
      "metadata": {
        "id": "L0kloXOm13CR"
      }
    },
    {
      "cell_type": "code",
      "source": [
        "with open('input3.txt') as f:\n",
        "    text = f.read()\n",
        "text[:100]"
      ],
      "metadata": {
        "colab": {
          "base_uri": "https://localhost:8080/",
          "height": 52
        },
        "id": "Mr5QS0Un3mik",
        "outputId": "2a592452-904d-410f-f464-df793c2f6db8"
      },
      "execution_count": null,
      "outputs": [
        {
          "output_type": "execute_result",
          "data": {
            "text/plain": [
              "',what(936,615)*:who()[[[~:mul(364,505)~;&{-*mul(431,254))  select(){}#*+]mul(617,948)$mul(117,664){)'"
            ],
            "application/vnd.google.colaboratory.intrinsic+json": {
              "type": "string"
            }
          },
          "metadata": {},
          "execution_count": 1
        }
      ]
    },
    {
      "cell_type": "code",
      "source": [
        "import re\n",
        "import pandas as pd\n",
        "\n",
        "df = pd.DataFrame(re.findall(r'mul\\((\\d+),(\\d+)\\)', text))\n",
        "df[0] = pd.to_numeric(df[0])\n",
        "df[1] = pd.to_numeric(df[1])\n",
        "df['res'] = df[0] * df[1]\n",
        "df['res'].sum()"
      ],
      "metadata": {
        "colab": {
          "base_uri": "https://localhost:8080/"
        },
        "id": "6CON4BHKgeAY",
        "outputId": "44563d60-da85-44aa-843a-748e7d6ce88d"
      },
      "execution_count": null,
      "outputs": [
        {
          "output_type": "execute_result",
          "data": {
            "text/plain": [
              "184576302"
            ]
          },
          "metadata": {},
          "execution_count": 8
        }
      ]
    },
    {
      "cell_type": "markdown",
      "source": [
        "## Задача 2"
      ],
      "metadata": {
        "id": "sm6CVsLShnBH"
      }
    },
    {
      "cell_type": "code",
      "source": [
        "# re.split(r'do()', text)"
      ],
      "metadata": {
        "id": "XipRkdeqljW8"
      },
      "execution_count": 95,
      "outputs": []
    },
    {
      "cell_type": "code",
      "source": [
        "part1 = []\n",
        "for i in re.findall(r'mul\\((\\d+),(\\d+)\\)', re.split(r'do()', text)[0]):\n",
        "    part1.append(list(map(int, i)))\n",
        "df1 = pd.DataFrame(part1)"
      ],
      "metadata": {
        "id": "fK5GDXfpkn85"
      },
      "execution_count": null,
      "outputs": []
    },
    {
      "cell_type": "code",
      "source": [
        "part2 = []\n",
        "for i in re.split(r'do()', text)[1:]:\n",
        "  if i.startswith(\"n't\"):\n",
        "    pass\n",
        "  else:\n",
        "    res = re.findall(r'mul\\((\\d+),(\\d+)\\)', i)\n",
        "    if len(res) > 0:\n",
        "      for mul in res:\n",
        "        part2.append(list(map(int, mul)))"
      ],
      "metadata": {
        "id": "itgDFYLehvbI"
      },
      "execution_count": null,
      "outputs": []
    },
    {
      "cell_type": "code",
      "source": [
        "df2 = pd.DataFrame(part2)\n",
        "res = pd.concat([df1, df2])"
      ],
      "metadata": {
        "id": "Nv0Cdemni6Lg"
      },
      "execution_count": 96,
      "outputs": []
    },
    {
      "cell_type": "code",
      "source": [
        "res['res'] = res[0] * res[1]\n",
        "res['res'].sum()"
      ],
      "metadata": {
        "colab": {
          "base_uri": "https://localhost:8080/"
        },
        "id": "7dMu4lA8k2Xc",
        "outputId": "4939d54e-9298-46f5-a414-c48deba4d546"
      },
      "execution_count": null,
      "outputs": [
        {
          "output_type": "execute_result",
          "data": {
            "text/plain": [
              "118173507"
            ]
          },
          "metadata": {},
          "execution_count": 94
        }
      ]
    }
  ]
}